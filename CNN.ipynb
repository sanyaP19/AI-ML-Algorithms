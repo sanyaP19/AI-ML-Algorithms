{
 "cells": [
  {
   "cell_type": "code",
   "execution_count": 1,
   "id": "195b3301-71e4-4229-a0b0-d6ec93a24401",
   "metadata": {},
   "outputs": [],
   "source": [
    "#IMPORT CIFAR DATASET\n",
    "import tensorflow as tf\n",
    "from tensorflow.keras import datasets,layers,models\n",
    "import numpy as np\n",
    "import matplotlib.pyplot as plt"
   ]
  },
  {
   "cell_type": "code",
   "execution_count": 2,
   "id": "5d62db41-063b-4f56-8509-e838cb27a883",
   "metadata": {},
   "outputs": [
    {
     "name": "stdout",
     "output_type": "stream",
     "text": [
      "Downloading data from https://www.cs.toronto.edu/~kriz/cifar-10-python.tar.gz\n",
      "170498071/170498071 [==============================] - 69s 0us/step\n"
     ]
    }
   ],
   "source": [
    "(X_train, y_train), (X_test, y_test)=datasets.cifar10.load_data()"
   ]
  },
  {
   "cell_type": "code",
   "execution_count": 4,
   "id": "44ed8b39-c91f-438d-ad11-588ecb792ece",
   "metadata": {},
   "outputs": [
    {
     "data": {
      "text/plain": [
       "(10000, 32, 32, 3)"
      ]
     },
     "execution_count": 4,
     "metadata": {},
     "output_type": "execute_result"
    }
   ],
   "source": [
    "X_test.shape"
   ]
  },
  {
   "cell_type": "code",
   "execution_count": 5,
   "id": "0d5fb9ae-2763-488c-a783-400727dbe7ee",
   "metadata": {},
   "outputs": [
    {
     "data": {
      "text/plain": [
       "(50000, 32, 32, 3)"
      ]
     },
     "execution_count": 5,
     "metadata": {},
     "output_type": "execute_result"
    }
   ],
   "source": [
    "X_train.shape"
   ]
  },
  {
   "cell_type": "code",
   "execution_count": 6,
   "id": "88b997cc-8080-44bc-bb35-2caa06c6ac4d",
   "metadata": {},
   "outputs": [
    {
     "data": {
      "text/plain": [
       "(50000, 1)"
      ]
     },
     "execution_count": 6,
     "metadata": {},
     "output_type": "execute_result"
    }
   ],
   "source": [
    "y_train.shape"
   ]
  },
  {
   "cell_type": "code",
   "execution_count": 7,
   "id": "0b379100-54e1-4cc6-952b-cef64b59ce32",
   "metadata": {},
   "outputs": [
    {
     "data": {
      "text/plain": [
       "(10000, 1)"
      ]
     },
     "execution_count": 7,
     "metadata": {},
     "output_type": "execute_result"
    }
   ],
   "source": [
    "y_test.shape"
   ]
  },
  {
   "cell_type": "code",
   "execution_count": 8,
   "id": "2fa3ce61-3588-4ca2-8c1f-fb6bbd69d989",
   "metadata": {},
   "outputs": [
    {
     "data": {
      "text/plain": [
       "array([[6],\n",
       "       [9],\n",
       "       [9],\n",
       "       [4],\n",
       "       [1]], dtype=uint8)"
      ]
     },
     "execution_count": 8,
     "metadata": {},
     "output_type": "execute_result"
    }
   ],
   "source": [
    "y_train[:5]"
   ]
  },
  {
   "cell_type": "code",
   "execution_count": 9,
   "id": "64912780-7452-4f31-9f3a-33df31a343e4",
   "metadata": {},
   "outputs": [
    {
     "data": {
      "text/plain": [
       "array([6, 9, 9, 4, 1], dtype=uint8)"
      ]
     },
     "execution_count": 9,
     "metadata": {},
     "output_type": "execute_result"
    }
   ],
   "source": [
    "y_train=y_train.reshape(-1,)\n",
    "y_train[:5]"
   ]
  },
  {
   "cell_type": "code",
   "execution_count": 10,
   "id": "57ed186f-31b2-4522-baad-7e3ff9d8adc9",
   "metadata": {},
   "outputs": [],
   "source": [
    "y_test=y_test.reshape(-1,)"
   ]
  },
  {
   "cell_type": "code",
   "execution_count": 11,
   "id": "ad05a638-574e-4f6e-9534-578221b7183f",
   "metadata": {},
   "outputs": [],
   "source": [
    "classes=['airplane','automobile','bird','cat','deer','dog','frog','horse','ship','truck']"
   ]
  },
  {
   "cell_type": "code",
   "execution_count": 12,
   "id": "608c47aa-f165-4a3b-9f66-cc3e56a46b84",
   "metadata": {},
   "outputs": [],
   "source": [
    "def plot_sample(X,y,index):\n",
    "    plt.figure(figsize=(15,2))\n",
    "    plt.imshow(X[index])\n",
    "    plt.xlabel(classes[y[index]])"
   ]
  },
  {
   "cell_type": "code",
   "execution_count": 17,
   "id": "85798eb9-a4a4-4ef9-acd3-3845ab18317f",
   "metadata": {},
   "outputs": [
    {
     "data": {
      "image/png": "[encoded data removed]",
      "text/plain": [
       "<Figure size 1500x200 with 1 Axes>"
      ]
     },
     "metadata": {},
     "output_type": "display_data"
    }
   ],
   "source": [
    "plot_sample(X_train,y_train,5)"
   ]
  },
  {
   "cell_type": "code",
   "execution_count": 18,
   "id": "f0563334-0d6e-4f72-a425-e837a3392914",
   "metadata": {},
   "outputs": [],
   "source": [
    "X_train=X_train/255.0\n",
    "X_test=X_test/255.0"
   ]
  },
  {
   "cell_type": "code",
   "execution_count": 29,
   "id": "539d4b2a-dfb4-40e8-bdb2-3ea71755abac",
   "metadata": {},
   "outputs": [],
   "source": [
    "cnn=models.Sequential([\n",
    "    layers.Conv2D(filters=32,kernel_size=(3,3),activation='relu',input_shape=(32,32,3)),\n",
    "    layers.MaxPooling2D((2,2)),\n",
    "    layers.Conv2D(filters=64,kernel_size=(3,3),activation='relu'),\n",
    "    layers.MaxPooling2D((2,2)),\n",
    "    layers.Flatten(),\n",
    "    layers.Dense(64,activation='relu'),\n",
    "    layers.Dense(10,activation='softmax')\n",
    "])"
   ]
  },
  {
   "cell_type": "code",
   "execution_count": 30,
   "id": "dd47791d-6f50-4037-b0fb-08925af4dd95",
   "metadata": {},
   "outputs": [],
   "source": [
    "cnn.compile(optimizer='adam',\n",
    "            loss='sparse_categorical_crossentropy',\n",
    "            metrics=['accuracy'])"
   ]
  },
  {
   "cell_type": "code",
   "execution_count": 31,
   "id": "2ca0fc05-e6a0-4fa3-8a65-2d57803f546f",
   "metadata": {},
   "outputs": [
    {
     "name": "stdout",
     "output_type": "stream",
     "text": [
      "Epoch 1/10\n",
      "1563/1563 [==============================] - 29s 18ms/step - loss: 1.4474 - accuracy: 0.4801\n",
      "Epoch 2/10\n",
      "1563/1563 [==============================] - 26s 17ms/step - loss: 1.1195 - accuracy: 0.6061\n",
      "Epoch 3/10\n",
      "1563/1563 [==============================] - 26s 17ms/step - loss: 0.9935 - accuracy: 0.6543\n",
      "Epoch 4/10\n",
      "1563/1563 [==============================] - 27s 17ms/step - loss: 0.9138 - accuracy: 0.6833\n",
      "Epoch 5/10\n",
      "1563/1563 [==============================] - 26s 17ms/step - loss: 0.8456 - accuracy: 0.7049\n",
      "Epoch 6/10\n",
      "1563/1563 [==============================] - 26s 17ms/step - loss: 0.7913 - accuracy: 0.7249\n",
      "Epoch 7/10\n",
      "1563/1563 [==============================] - 27s 17ms/step - loss: 0.7456 - accuracy: 0.7423\n",
      "Epoch 8/10\n",
      "1563/1563 [==============================] - 27s 17ms/step - loss: 0.7040 - accuracy: 0.7553\n",
      "Epoch 9/10\n",
      "1563/1563 [==============================] - 27s 17ms/step - loss: 0.6659 - accuracy: 0.7684\n",
      "Epoch 10/10\n",
      "1563/1563 [==============================] - 27s 17ms/step - loss: 0.6300 - accuracy: 0.7816\n"
     ]
    },
    {
     "data": {
      "text/plain": [
       "<keras.src.callbacks.History at 0x1ac607a46d0>"
      ]
     },
     "execution_count": 31,
     "metadata": {},
     "output_type": "execute_result"
    }
   ],
   "source": [
    "cnn.fit(X_train,y_train,epochs=10)"
   ]
  },
  {
   "cell_type": "code",
   "execution_count": 32,
   "id": "02421ba7-6613-4927-9cbd-0d032c148a5d",
   "metadata": {},
   "outputs": [
    {
     "name": "stdout",
     "output_type": "stream",
     "text": [
      "313/313 [==============================] - 2s 6ms/step - loss: 0.8868 - accuracy: 0.7101\n"
     ]
    },
    {
     "data": {
      "text/plain": [
       "[0.8867618441581726, 0.710099995136261]"
      ]
     },
     "execution_count": 32,
     "metadata": {},
     "output_type": "execute_result"
    }
   ],
   "source": [
    "cnn.evaluate(X_test,y_test)"
   ]
  },
  {
   "cell_type": "code",
   "execution_count": 33,
   "id": "38e744d6-042b-4531-a7c7-281dbb29abd7",
   "metadata": {},
   "outputs": [
    {
     "name": "stdout",
     "output_type": "stream",
     "text": [
      "313/313 [==============================] - 2s 6ms/step\n"
     ]
    },
    {
     "data": {
      "text/plain": [
       "array([[1.02805222e-06, 1.07643734e-06, 8.60128512e-06, 9.28359687e-01,\n",
       "        1.10409410e-05, 6.13977015e-02, 1.79163460e-03, 1.27595411e-06,\n",
       "        8.42624251e-03, 1.63454320e-06],\n",
       "       [2.78909528e-03, 5.13208623e-04, 2.07335233e-08, 3.94882349e-08,\n",
       "        8.71419215e-10, 1.76855031e-09, 7.29532268e-11, 3.59087848e-09,\n",
       "        9.96644020e-01, 5.35901381e-05],\n",
       "       [8.65066573e-02, 4.51999381e-02, 7.01432116e-04, 2.76941480e-03,\n",
       "        1.10210211e-04, 2.77301035e-04, 4.53006942e-04, 7.20317883e-04,\n",
       "        8.51932585e-01, 1.13291005e-02],\n",
       "       [9.79644775e-01, 6.59548969e-05, 1.77929946e-03, 2.04903172e-05,\n",
       "        2.33256447e-04, 1.39454897e-07, 7.03551414e-05, 1.04621267e-05,\n",
       "        1.81735605e-02, 1.85958311e-06],\n",
       "       [1.25127846e-08, 3.40498991e-05, 1.09008071e-03, 3.26387845e-02,\n",
       "        3.32289129e-01, 8.45667254e-03, 6.25487506e-01, 1.53729593e-06,\n",
       "        2.32873981e-06, 8.16178414e-09]], dtype=float32)"
      ]
     },
     "execution_count": 33,
     "metadata": {},
     "output_type": "execute_result"
    }
   ],
   "source": [
    "y_pred=cnn.predict(X_test)\n",
    "y_pred[:5]"
   ]
  },
  {
   "cell_type": "code",
   "execution_count": 34,
   "id": "a488af4c-bd6c-4ec8-a646-03da64d255ee",
   "metadata": {},
   "outputs": [
    {
     "data": {
      "text/plain": [
       "[3, 8, 8, 0, 6]"
      ]
     },
     "execution_count": 34,
     "metadata": {},
     "output_type": "execute_result"
    }
   ],
   "source": [
    "y_classes=[np.argmax(element) for element in y_pred]\n",
    "y_classes[:5]"
   ]
  },
  {
   "cell_type": "code",
   "execution_count": 35,
   "id": "2bc4bbd7-2ce4-442a-a13b-36ef8dc25576",
   "metadata": {},
   "outputs": [
    {
     "data": {
      "text/plain": [
       "array([3, 8, 8, 0, 6], dtype=uint8)"
      ]
     },
     "execution_count": 35,
     "metadata": {},
     "output_type": "execute_result"
    }
   ],
   "source": [
    "y_test[:5]"
   ]
  },
  {
   "cell_type": "code",
   "execution_count": 36,
   "id": "9c54032d-e8cb-4884-9fdd-5dfb1da0ba8b",
   "metadata": {},
   "outputs": [
    {
     "data": {
      "image/png": "[encoded data removed]",
      "text/plain": [
       "<Figure size 1500x200 with 1 Axes>"
      ]
     },
     "metadata": {},
     "output_type": "display_data"
    }
   ],
   "source": [
    "plot_sample(X_test,y_test,60)"
   ]
  },
  {
   "cell_type": "code",
   "execution_count": 37,
   "id": "d08f1d62-c4e2-4960-b191-2a8c7cda863d",
   "metadata": {},
   "outputs": [
    {
     "data": {
      "image/png": "[encoded data removed]",
      "text/plain": [
       "<Figure size 1500x200 with 1 Axes>"
      ]
     },
     "metadata": {},
     "output_type": "display_data"
    }
   ],
   "source": [
    "plot_sample(X_test,y_test,100)"
   ]
  },
  {
   "cell_type": "code",
   "execution_count": 39,
   "id": "d477028c-7684-4eee-ae0d-b3934747aab9",
   "metadata": {},
   "outputs": [
    {
     "data": {
      "text/plain": [
       "'deer'"
      ]
     },
     "execution_count": 39,
     "metadata": {},
     "output_type": "execute_result"
    }
   ],
   "source": [
    "classes[y_classes[100]]"
   ]
  },
  {
   "cell_type": "code",
   "execution_count": null,
   "id": "61d92335-9d36-4aad-bbe7-f81d81b753cc",
   "metadata": {},
   "outputs": [],
   "source": []
  }
 ],
 "metadata": {
  "kernelspec": {
   "display_name": "Python 3 (ipykernel)",
   "language": "python",
   "name": "python3"
  },
  "language_info": {
   "codemirror_mode": {
    "name": "ipython",
    "version": 3
   },
   "file_extension": ".py",
   "mimetype": "text/x-python",
   "name": "python",
   "nbconvert_exporter": "python",
   "pygments_lexer": "ipython3",
   "version": "3.10.9"
  }
 },
 "nbformat": 4,
 "nbformat_minor": 5
}
